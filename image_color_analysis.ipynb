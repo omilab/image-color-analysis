{
 "cells": [
  {
   "cell_type": "markdown",
   "metadata": {},
   "source": [
    "Create image collage from images"
   ]
  },
  {
   "cell_type": "code",
   "execution_count": 21,
   "metadata": {
    "collapsed": false
   },
   "outputs": [
    {
     "ename": "WindowsError",
     "evalue": "[Error 3] The system cannot find the path specified: '../Images/*.*'",
     "output_type": "error",
     "traceback": [
      "\u001b[1;31m---------------------------------------------------------------------------\u001b[0m",
      "\u001b[1;31mWindowsError\u001b[0m                              Traceback (most recent call last)",
      "\u001b[1;32m<ipython-input-21-db4277d19a2e>\u001b[0m in \u001b[0;36m<module>\u001b[1;34m()\u001b[0m\n\u001b[0;32m      8\u001b[0m \u001b[1;33m\u001b[0m\u001b[0m\n\u001b[0;32m      9\u001b[0m \u001b[0mimages\u001b[0m \u001b[1;33m=\u001b[0m \u001b[1;33m[\u001b[0m\u001b[1;33m]\u001b[0m\u001b[1;33m\u001b[0m\u001b[0m\n\u001b[1;32m---> 10\u001b[1;33m \u001b[1;32mfor\u001b[0m \u001b[0mimage_name\u001b[0m \u001b[1;32min\u001b[0m \u001b[0mos\u001b[0m\u001b[1;33m.\u001b[0m\u001b[0mlistdir\u001b[0m\u001b[1;33m(\u001b[0m\u001b[0mfolder\u001b[0m\u001b[1;33m)\u001b[0m\u001b[1;33m:\u001b[0m\u001b[1;33m\u001b[0m\u001b[0m\n\u001b[0m\u001b[0;32m     11\u001b[0m     \u001b[0mimages\u001b[0m\u001b[1;33m.\u001b[0m\u001b[0mappend\u001b[0m\u001b[1;33m(\u001b[0m\u001b[0mImage\u001b[0m\u001b[1;33m.\u001b[0m\u001b[0mopen\u001b[0m\u001b[1;33m(\u001b[0m\u001b[0mfolder\u001b[0m \u001b[1;33m+\u001b[0m \u001b[1;34m'/'\u001b[0m \u001b[1;33m+\u001b[0m \u001b[0mimage_name\u001b[0m\u001b[1;33m)\u001b[0m\u001b[1;33m)\u001b[0m\u001b[1;33m\u001b[0m\u001b[0m\n\u001b[0;32m     12\u001b[0m \u001b[1;33m\u001b[0m\u001b[0m\n",
      "\u001b[1;31mWindowsError\u001b[0m: [Error 3] The system cannot find the path specified: '../Images/*.*'"
     ]
    }
   ],
   "source": [
    "from PIL import Image\n",
    "import os\n",
    "import time\n",
    "\n",
    "folder = '../Images'\n",
    "\n",
    "startTime = time.time()\n",
    "\n",
    "images = []\n",
    "for image_name in os.listdir(folder):\n",
    "    images.append(Image.open(folder + '/' + image_name))\n",
    "\n",
    "total_height = sum(img.size[1] for img in images)\n",
    "max_width = max(img.size[0] for img in images)\n",
    "\n",
    "collage = Image.new('RGBA', (max_width, total_height))\n",
    "y = 0\n",
    "for img in images:\n",
    "    collage.paste(img, (0, y))\n",
    "    y += img.size[1]\n",
    "    \n",
    "endTime = time.time()\n",
    "    \n",
    "print 'creating collage time: ', endTime - startTime\n",
    "print 'total_height: ', total_height\n",
    "print 'max_width: ', max_width\n",
    "\n",
    "collage.show()"
   ]
  },
  {
   "cell_type": "markdown",
   "metadata": {},
   "source": [
    "Fit KMeans model"
   ]
  },
  {
   "cell_type": "code",
   "execution_count": 10,
   "metadata": {
    "collapsed": false
   },
   "outputs": [
    {
     "name": "stdout",
     "output_type": "stream",
     "text": [
      "fiting model time:  1.38000011444\n"
     ]
    }
   ],
   "source": [
    "from sklearn.cluster import KMeans\n",
    "import numpy as np\n",
    "\n",
    "startTime = time.time()\n",
    "\n",
    "collage_array = np.array(collage)\n",
    "collage_array = collage_array.reshape((collage_array.shape[0] * collage_array.shape[1], 4))\n",
    "\n",
    "collage_array = collage_array[~np.all(collage_array == 0, axis=1)]\n",
    "\n",
    "kmeans_model = KMeans(n_clusters=5)\n",
    "kmeans_model.fit(collage_array)\n",
    "\n",
    "endTime = time.time()\n",
    "print 'fiting model time: ', endTime - startTime"
   ]
  },
  {
   "cell_type": "markdown",
   "metadata": {},
   "source": [
    "Create colors bar"
   ]
  },
  {
   "cell_type": "code",
   "execution_count": 20,
   "metadata": {
    "collapsed": false
   },
   "outputs": [],
   "source": [
    "from PIL import ImageDraw\n",
    "\n",
    "numLabels = np.arange(0, len(np.unique(kmeans_model.labels_)) + 1)\n",
    "(hist, _) = np.histogram(kmeans_model.labels_, bins = numLabels)\n",
    "\n",
    "# normalize the histogram, such that it sums to one\n",
    "hist = hist.astype(\"float\")\n",
    "hist /= hist.sum()\n",
    "\n",
    "startX = 0\n",
    "\n",
    "im = Image.new('RGB', (300, 300), (0, 0, 0))\n",
    "dr = ImageDraw.Draw(im)\n",
    "\n",
    "for (percent, color) in sorted(zip(hist, kmeans_model.cluster_centers_), key=lambda t: t[0], reverse=True):\n",
    "    endX = startX + (float(percent) * 300)\n",
    "    dr.rectangle([int(startX), 0, int(endX), 300], fill=tuple(map(int, color)))\n",
    "    startX = endX\n",
    "\n",
    "im.show()"
   ]
  }
 ],
 "metadata": {
  "kernelspec": {
   "display_name": "Python 2",
   "language": "python",
   "name": "python2"
  },
  "language_info": {
   "codemirror_mode": {
    "name": "ipython",
    "version": 2
   },
   "file_extension": ".py",
   "mimetype": "text/x-python",
   "name": "python",
   "nbconvert_exporter": "python",
   "pygments_lexer": "ipython2",
   "version": "2.7.11"
  }
 },
 "nbformat": 4,
 "nbformat_minor": 0
}
