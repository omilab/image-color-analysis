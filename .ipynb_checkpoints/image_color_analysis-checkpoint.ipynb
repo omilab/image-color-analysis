{
 "cells": [
  {
   "cell_type": "markdown",
   "metadata": {},
   "source": [
    "Create image collage from images"
   ]
  },
  {
   "cell_type": "code",
   "execution_count": 22,
   "metadata": {
    "collapsed": false
   },
   "outputs": [
    {
     "name": "stdout",
     "output_type": "stream",
     "text": [
      "creating collage time:  0.00500011444092\n",
      "total_height:  490\n",
      "max_width:  201\n"
     ]
    }
   ],
   "source": [
    "from PIL import Image\n",
    "import os\n",
    "import time\n",
    "\n",
    "folder = 'demo'\n",
    "\n",
    "startTime = time.time()\n",
    "\n",
    "# load images from the folder\n",
    "images = []\n",
    "for image_name in os.listdir(folder):\n",
    "    images.append(Image.open(folder + '/' + image_name))\n",
    "\n",
    "# calculate the total height and the max width for the collage\n",
    "total_height = sum(img.size[1] for img in images)\n",
    "max_width = max(img.size[0] for img in images)\n",
    "\n",
    "# create collage with alpha channel \n",
    "# every image will be place below the previous one\n",
    "collage = Image.new('RGBA', (max_width, total_height))\n",
    "y = 0\n",
    "for img in images:\n",
    "    collage.paste(img, (0, y))\n",
    "    y += img.size[1]\n",
    "    \n",
    "endTime = time.time()\n",
    "    \n",
    "print 'creating collage time: ', endTime - startTime\n",
    "print 'total_height: ', total_height\n",
    "print 'max_width: ', max_width\n",
    "\n",
    "collage.show()"
   ]
  },
  {
   "cell_type": "markdown",
   "metadata": {},
   "source": [
    "Fit KMeans model"
   ]
  },
  {
   "cell_type": "code",
   "execution_count": 10,
   "metadata": {
    "collapsed": false
   },
   "outputs": [
    {
     "name": "stdout",
     "output_type": "stream",
     "text": [
      "fiting model time:  1.38000011444\n"
     ]
    }
   ],
   "source": [
    "from sklearn.cluster import KMeans\n",
    "import numpy as np\n",
    "\n",
    "startTime = time.time()\n",
    "\n",
    "# conevrt the collage to color array (total_height X max_width X 4)\n",
    "collage_array = np.array(collage)\n",
    "\n",
    "# reshape the array \n",
    "collage_array = collage_array.reshape((collage_array.shape[0] * collage_array.shape[1], 4))\n",
    "\n",
    "# remove all transparent colors\n",
    "collage_array = collage_array[~np.all(collage_array == 0, axis=1)]\n",
    "\n",
    "# fit k-means model with 5 clusters\n",
    "kmeans_model = KMeans(n_clusters=5)\n",
    "kmeans_model.fit(collage_array)\n",
    "\n",
    "endTime = time.time()\n",
    "print 'fiting model time: ', endTime - startTime"
   ]
  },
  {
   "cell_type": "markdown",
   "metadata": {},
   "source": [
    "Create colors bar"
   ]
  },
  {
   "cell_type": "code",
   "execution_count": 20,
   "metadata": {
    "collapsed": false
   },
   "outputs": [],
   "source": [
    "from PIL import ImageDraw\n",
    "\n",
    "# create histogram for the number of clusters\n",
    "numLabels = np.arange(0, len(np.unique(kmeans_model.labels_)) + 1)\n",
    "(hist, _) = np.histogram(kmeans_model.labels_, bins = numLabels)\n",
    "\n",
    "# normalize the histogram, such that it sums to one\n",
    "hist = hist.astype(\"float\")\n",
    "hist /= hist.sum()\n",
    "\n",
    "startX = 0\n",
    "\n",
    "# create bar image contains the most used colors\n",
    "im = Image.new('RGB', (300, 300), (0, 0, 0))\n",
    "dr = ImageDraw.Draw(im)\n",
    "\n",
    "for (percent, color) in sorted(zip(hist, kmeans_model.cluster_centers_), key=lambda t: t[0], reverse=True):\n",
    "    endX = startX + (float(percent) * 300)\n",
    "    dr.rectangle([int(startX), 0, int(endX), 300], fill=tuple(map(int, color)))\n",
    "    startX = endX\n",
    "\n",
    "# print the histogram\n",
    "im.show()"
   ]
  }
 ],
 "metadata": {
  "kernelspec": {
   "display_name": "Python 2",
   "language": "python",
   "name": "python2"
  },
  "language_info": {
   "codemirror_mode": {
    "name": "ipython",
    "version": 2
   },
   "file_extension": ".py",
   "mimetype": "text/x-python",
   "name": "python",
   "nbconvert_exporter": "python",
   "pygments_lexer": "ipython2",
   "version": "2.7.11"
  }
 },
 "nbformat": 4,
 "nbformat_minor": 0
}
